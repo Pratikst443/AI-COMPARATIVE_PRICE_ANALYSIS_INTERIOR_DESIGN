{
  "nbformat": 4,
  "nbformat_minor": 0,
  "metadata": {
    "colab": {
      "provenance": []
    },
    "kernelspec": {
      "name": "python3",
      "display_name": "Python 3"
    },
    "language_info": {
      "name": "python"
    }
  },
  "cells": [
    {
      "cell_type": "markdown",
      "source": [
        "Name: Pratik Sushil Tirpude\n",
        "\n",
        "Project Title: AI for Comparative price analysis in Interior design\n",
        "\n",
        "Track: Time series model"
      ],
      "metadata": {
        "id": "_iOYHOSzJf4n"
      }
    },
    {
      "cell_type": "code",
      "execution_count": null,
      "metadata": {
        "id": "WMXw49GlGKZX"
      },
      "outputs": [],
      "source": [
        "# Dataset\n",
        "\n",
        "import pandas as pd\n",
        "\n",
        "# Load dataset\n",
        "df = pd.read_csv(\"interior_design_prices.csv\", parse_dates=[\"Date\"])\n",
        "print(df.head())\n",
        "print(df.info())\n",
        "print(df['Category'].unique())\n"
      ]
    },
    {
      "cell_type": "markdown",
      "source": [
        "Here, we have ensured the data is loaded correctly."
      ],
      "metadata": {
        "id": "Zgtj-DcsHZN4"
      }
    },
    {
      "cell_type": "code",
      "source": [
        "#Exploratory data analysis\n",
        "\n",
        "import matplotlib.pyplot as plt\n",
        "import seaborn as sns\n",
        "\n",
        "plt.figure(figsize=(12,6))\n",
        "sns.lineplot(data=df, x=\"Date\", y=\"Price\", hue=\"Category\", marker=\"o\")\n",
        "plt.title(\"Comparative Price Trends in Interior Design\")\n",
        "plt.ylabel(\"Price (INR)\")\n",
        "plt.xlabel(\"Date\")\n",
        "plt.grid(True)\n",
        "plt.show()\n"
      ],
      "metadata": {
        "id": "81vYGyJhH_Qx"
      },
      "execution_count": null,
      "outputs": []
    },
    {
      "cell_type": "markdown",
      "source": [
        "In the above line chart, we can see the plotted charts for Furniture, Lighting, Florring and Decor.\n",
        "From the chart we can clearly see the consistent price rise in the Furniture and Decor category."
      ],
      "metadata": {
        "id": "sFc_i_GgI6g3"
      }
    },
    {
      "cell_type": "code",
      "source": [
        "#Growth and volatility analysis\n",
        "\n",
        "df_sorted = df.sort_values([\"Category\",\"Date\"]).copy()\n",
        "df_sorted[\"Monthly_Return\"] = df_sorted.groupby(\"Category\")[\"Price\"].pct_change()\n",
        "\n",
        "summary = df_sorted.groupby(\"Category\").agg(\n",
        "    Start_Price=(\"Price\", lambda s: s.iloc[0]),\n",
        "    End_Price=(\"Price\", lambda s: s.iloc[-1]),\n",
        "    Months=(\"Price\", \"count\"),\n",
        "    Avg_Monthly_Return=(\"Monthly_Return\", \"mean\"),\n",
        "    Volatility=(\"Monthly_Return\", \"std\")\n",
        ").reset_index()\n",
        "\n",
        "# CAGR calculation\n",
        "def calc_cagr(start, end, months):\n",
        "    years = months / 12\n",
        "    return (end/start)**(1/years) - 1\n",
        "\n",
        "summary[\"CAGR\"] = summary.apply(lambda r: calc_cagr(r[\"Start_Price\"], r[\"End_Price\"], r[\"Months\"]), axis=1)\n",
        "print(summary)\n"
      ],
      "metadata": {
        "id": "TGcOcalIJcxo"
      },
      "execution_count": null,
      "outputs": []
    },
    {
      "cell_type": "markdown",
      "source": [
        "Here, from CAGR we can clearly see that the Decor has the fastest growth rate, while from Volatility we can conclude that Furniture has the most stable growth."
      ],
      "metadata": {
        "id": "d9Y_AZDwM52S"
      }
    },
    {
      "cell_type": "code",
      "source": [
        "# Forecasting\n",
        "\n",
        "!pip install prophet\n"
      ],
      "metadata": {
        "id": "zERUAAAhN4_J"
      },
      "execution_count": null,
      "outputs": []
    },
    {
      "cell_type": "code",
      "source": [
        "#Forecasting each category\n",
        "\n",
        "categories = df['Category'].unique()\n",
        "all_forecasts = {}\n",
        "for cat in categories:\n",
        "    print(f'\\n==== Forecasting: {cat} ====')\n",
        "    sub = df[df['Category'] == cat].sort_values('Date')\n",
        "    ts = sub[['Date','Price']].rename(columns={'Date':'ds','Price':'y'})\n",
        "    m = Prophet()\n",
        "    m.fit(ts)\n",
        "    future = m.make_future_dataframe(periods=12, freq='MS')\n",
        "    fcst = m.predict(future)\n",
        "    all_forecasts[cat] = fcst\n",
        "    fig1 = m.plot(fcst)\n",
        "    plt.title(f'Price Forecast: {cat}')\n",
        "    plt.xlabel('Date')\n",
        "    plt.ylabel('Price (INR)')\n",
        "    plt.show()\n",
        "    fig2 = m.plot_components(fcst)\n",
        "    plt.show()\n",
        "    out_path = f'forecast_{cat.lower()}.csv'\n",
        "    fcst[['ds','yhat','yhat_lower','yhat_upper']].to_csv(out_path, index=False)\n",
        "    print('Saved:', out_path)\n",
        "\n",
        "future_summary = []\n",
        "for cat, fcst in all_forecasts.items():\n",
        "    tail = fcst.tail(12)\n",
        "    future_summary.append({'Category': cat, 'Avg_Predicted_Price_Next12M': tail['yhat'].mean()})\n",
        "future_summary_df = pd.DataFrame(future_summary)\n",
        "display(future_summary_df)\n",
        "future_summary_df.to_csv('future_summary_next12m.csv', index=False)\n",
        "print('Saved: future_summary_next12m.csv')"
      ],
      "metadata": {
        "id": "SQziegiaYDc7"
      },
      "execution_count": null,
      "outputs": []
    },
    {
      "cell_type": "code",
      "source": [
        "#Evaluation metrics\n",
        "\n",
        "from sklearn.metrics import mean_absolute_error, mean_squared_error\n",
        "import numpy as np\n",
        "\n",
        "evaluation_results = []\n",
        "\n",
        "for cat in df['Category'].unique():\n",
        "    # Load forecast CSV\n",
        "    fcst = pd.read_csv(f\"forecast_{cat.lower()}.csv\", parse_dates=[\"ds\"])\n",
        "\n",
        "    # Get actual data\n",
        "    actual = df[df[\"Category\"] == cat][[\"Date\", \"Price\"]].rename(columns={\"Date\":\"ds\",\"Price\":\"y\"})\n",
        "\n",
        "    # Define train-test split (train until 2023, test = 2024)\n",
        "    test = actual[actual[\"ds\"] > \"2023-12-01\"]\n",
        "\n",
        "    # Match predictions with test set\n",
        "    pred = fcst[fcst[\"ds\"].isin(test[\"ds\"])]\n",
        "\n",
        "    if pred.empty:\n",
        "        print(f\"No forecast data matched for {cat}, skipping.\")\n",
        "        continue\n",
        "\n",
        "    # Align by merging on 'ds' (to avoid index mismatch)\n",
        "    merged = test.merge(pred[[\"ds\",\"yhat\"]], on=\"ds\", how=\"inner\")\n",
        "\n",
        "    if merged.empty:\n",
        "        print(f\"Could not align actual vs forecast for {cat}, skipping.\")\n",
        "        continue\n",
        "\n",
        "    # Compute metrics\n",
        "    mae = mean_absolute_error(merged['y'], merged['yhat'])\n",
        "    mse = mean_squared_error(merged['y'], merged['yhat'])\n",
        "    rmse = np.sqrt(mse)   # manual RMSE\n",
        "\n",
        "    print(f\"{cat} → MAE={mae:.2f}, RMSE={rmse:.2f}\")\n",
        "\n",
        "    evaluation_results.append({\n",
        "        \"Category\": cat,\n",
        "        \"MAE\": mae,\n",
        "        \"RMSE\": rmse\n",
        "    })\n",
        "\n",
        "# Save evaluation results to CSV\n",
        "if evaluation_results:\n",
        "    eval_df = pd.DataFrame(evaluation_results)\n",
        "    display(eval_df)\n",
        "    eval_df.to_csv(\"evaluation_summary.csv\", index=False)\n",
        "    print(\"Saved: evaluation_summary.csv\")\n",
        "else:\n",
        "    print(\"No evaluation results generated.\")\n",
        "\n"
      ],
      "metadata": {
        "id": "6djGgaAcvofz"
      },
      "execution_count": null,
      "outputs": []
    }
  ]
}